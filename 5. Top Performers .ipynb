{
 "cells": [
  {
   "cell_type": "markdown",
   "id": "a45192e5-28ad-430c-8ce1-e065ee2d5033",
   "metadata": {},
   "source": [
    "5. Top Performers\n",
    "\n",
    "Identify the movies with the highest average ratings (considering a minimum number of ratings for fairness).\n",
    "\n",
    "Analyze the characteristics of top-rated movies (e.g., release year, genres)."
   ]
  },
  {
   "cell_type": "code",
   "execution_count": 2,
   "id": "27e5d2cd-12dc-484d-8689-d73d2a83fff7",
   "metadata": {},
   "outputs": [
    {
     "name": "stdout",
     "output_type": "stream",
     "text": [
      "Top 10 Movies by Average Rating (Minimum 50 Ratings):\n",
      "Title: Sanjuro (1962), Year: 1962, Genres: Action|Adventure\n",
      "  Average Rating: 4.61, Number of Ratings: 69\n",
      "\n",
      "Title: Seven Samurai (The Magnificent Seven) (Shichinin no samurai) (1954), Year: 1954, Genres: Action|Drama\n",
      "  Average Rating: 4.56, Number of Ratings: 628\n",
      "\n",
      "Title: Shawshank Redemption, The (1994), Year: 1994, Genres: Drama\n",
      "  Average Rating: 4.55, Number of Ratings: 2227\n",
      "\n",
      "Title: Godfather, The (1972), Year: 1972, Genres: Action|Crime|Drama\n",
      "  Average Rating: 4.52, Number of Ratings: 2223\n",
      "\n",
      "Title: Close Shave, A (1995), Year: 1995, Genres: Animation|Comedy|Thriller\n",
      "  Average Rating: 4.52, Number of Ratings: 657\n",
      "\n",
      "Title: Usual Suspects, The (1995), Year: 1995, Genres: Crime|Thriller\n",
      "  Average Rating: 4.52, Number of Ratings: 1783\n",
      "\n",
      "Title: Schindler's List (1993), Year: 1993, Genres: Drama|War\n",
      "  Average Rating: 4.51, Number of Ratings: 2304\n",
      "\n",
      "Title: Wrong Trousers, The (1993), Year: 1993, Genres: Animation|Comedy\n",
      "  Average Rating: 4.51, Number of Ratings: 882\n",
      "\n",
      "Title: Sunset Blvd. (a.k.a. Sunset Boulevard) (1950), Year: 1950, Genres: Film-Noir\n",
      "  Average Rating: 4.49, Number of Ratings: 470\n",
      "\n",
      "Title: Raiders of the Lost Ark (1981), Year: 1981, Genres: Action|Adventure\n",
      "  Average Rating: 4.48, Number of Ratings: 2514\n",
      "\n"
     ]
    }
   ],
   "source": [
    "movies_file = r'C:\\Users\\Admin\\Documents\\ml-1m[1]\\ml-1m\\movies.dat'\n",
    "ratings_file = r'C:\\Users\\Admin\\Documents\\ml-1m[1]\\ml-1m\\ratings.dat'\n",
    "\n",
    "movie_details = {}\n",
    "\n",
    "with open(movies_file, 'r', encoding='latin-1') as movies:\n",
    "    for line in movies:\n",
    "        line = line.strip()\n",
    "        movie_id, title, genres = line.split('::')\n",
    "        release_year = int(title.strip()[-5:-1])\n",
    "        movie_details[int(movie_id)] = (title, release_year, genres)\n",
    "\n",
    "movie_ratings = {}\n",
    "\n",
    "with open(ratings_file, 'r') as ratings:\n",
    "    for line in ratings:\n",
    "        line = line.strip()\n",
    "        user_id, movie_id, rating, timestamp = map(int, line.split('::'))\n",
    "\n",
    "        if movie_id not in movie_ratings:\n",
    "            movie_ratings[movie_id] = []\n",
    "        movie_ratings[movie_id].append(rating)\n",
    "\n",
    "average_ratings = {}\n",
    "\n",
    "for movie_id, ratings in movie_ratings.items():\n",
    "    num_ratings = len(ratings)\n",
    "    average_rating = sum(ratings) / num_ratings\n",
    "    average_ratings[movie_id] = (average_rating, num_ratings)\n",
    "\n",
    "min_ratings = 50\n",
    "filtered_movies = {\n",
    "    movie_id: (avg_rating, num_ratings)\n",
    "    for movie_id, (avg_rating, num_ratings) in average_ratings.items()\n",
    "    if num_ratings >= min_ratings\n",
    "}\n",
    "top_movies = sorted(filtered_movies.items(), key=lambda x: x[1][0], reverse=True)[:10]\n",
    "\n",
    "print(\"Top 10 Movies by Average Rating (Minimum 50 Ratings):\")\n",
    "for movie_id, (avg_rating, num_ratings) in top_movies:\n",
    "    title, release_year, genres = movie_details[movie_id]\n",
    "    print(f\"Title: {title}, Year: {release_year}, Genres: {genres}\")\n",
    "    print(f\"  Average Rating: {avg_rating:.2f}, Number of Ratings: {num_ratings}\")\n",
    "    print()\n"
   ]
  },
  {
   "cell_type": "code",
   "execution_count": null,
   "id": "836586dc-58ee-4abb-b8bd-c89d5f0762e6",
   "metadata": {},
   "outputs": [],
   "source": []
  }
 ],
 "metadata": {
  "kernelspec": {
   "display_name": "Python 3 (ipykernel)",
   "language": "python",
   "name": "python3"
  },
  "language_info": {
   "codemirror_mode": {
    "name": "ipython",
    "version": 3
   },
   "file_extension": ".py",
   "mimetype": "text/x-python",
   "name": "python",
   "nbconvert_exporter": "python",
   "pygments_lexer": "ipython3",
   "version": "3.12.4"
  }
 },
 "nbformat": 4,
 "nbformat_minor": 5
}
