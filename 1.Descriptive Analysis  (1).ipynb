{
 "cells": [
  {
   "cell_type": "markdown",
   "id": "1914dba9-aa23-4035-b8b2-1503b31a6d52",
   "metadata": {},
   "source": [
    "1.Descriptive Analysis\n",
    "Analyze the distribution of movie ratings. What percentage of movies have high (5), medium (3-4), and low (1-2) ratings?\n",
    "\n",
    "Identify the top 10 most-rated movies"
   ]
  },
  {
   "cell_type": "code",
   "execution_count": 6,
   "id": "fcc810f9-93a2-4131-a416-ab375aa8ffae",
   "metadata": {},
   "outputs": [
    {
     "name": "stdout",
     "output_type": "stream",
     "text": [
      "High 22\n",
      "Medium 61\n",
      "Low 16\n",
      "American Beauty (1999) 3428\n",
      "Star Wars: Episode IV - A New Hope (1977) 2991\n",
      "Star Wars: Episode V - The Empire Strikes Back (1980) 2990\n",
      "Star Wars: Episode VI - Return of the Jedi (1983) 2883\n",
      "Jurassic Park (1993) 2672\n",
      "Saving Private Ryan (1998) 2653\n",
      "Terminator 2: Judgment Day (1991) 2649\n",
      "Matrix, The (1999) 2590\n",
      "Back to the Future (1985) 2583\n",
      "Silence of the Lambs, The (1991) 2578\n"
     ]
    }
   ],
   "source": [
    "#Solution\n",
    "\n",
    "ratings = open(r'C:\\Users\\Admin\\Documents\\ml-1m[1]\\ml-1m\\ratings.dat')\n",
    "rating_distribution = dict()\n",
    "movieId_count = dict()\n",
    "\n",
    "for line in ratings:\n",
    "    line = line.strip()\n",
    "    columns = list(map(int, line.split('::')))\n",
    "    if columns[2] == 5:\n",
    "        columns.append('High')\n",
    "    elif columns[2] == 4 or columns[2] == 3:\n",
    "        columns.append('Medium')\n",
    "    else:\n",
    "        columns.append('Low')\n",
    "\n",
    "    if columns[1] in movieId_count:\n",
    "        movieId_count[columns[1]] += 1\n",
    "    else: \n",
    "        movieId_count[columns[1]] = 1\n",
    "\n",
    "    if columns[4] in rating_distribution:\n",
    "        rating_distribution[columns[4]] += 1\n",
    "    else:\n",
    "        rating_distribution[columns[4]] = 1\n",
    "\n",
    "for rating_range in rating_distribution:\n",
    "    print('{0} {1}'.format(rating_range, int(rating_distribution[rating_range] / sum(rating_distribution.values()) * 100)))\n",
    "\n",
    "movies = open(r'C:\\Users\\Admin\\Documents\\ml-1m[1]\\ml-1m\\movies.dat')\n",
    "movieId_name = dict()\n",
    "for line in movies:\n",
    "    line = line.strip()\n",
    "    columns = line.split('::')\n",
    "    movieId_name[int(columns[0])] = columns[1]\n",
    "    \n",
    "sorted_counted_data = sorted(movieId_count.items(), key = lambda x:x[1], reverse=True)[:10]\n",
    "for movieId, count in sorted_counted_data:\n",
    "    print(movieId_name[movieId], count)"
   ]
  },
  {
   "cell_type": "code",
   "execution_count": null,
   "id": "e659305e-8200-4e45-a352-971045db5912",
   "metadata": {},
   "outputs": [],
   "source": []
  }
 ],
 "metadata": {
  "kernelspec": {
   "display_name": "Python 3 (ipykernel)",
   "language": "python",
   "name": "python3"
  },
  "language_info": {
   "codemirror_mode": {
    "name": "ipython",
    "version": 3
   },
   "file_extension": ".py",
   "mimetype": "text/x-python",
   "name": "python",
   "nbconvert_exporter": "python",
   "pygments_lexer": "ipython3",
   "version": "3.12.4"
  }
 },
 "nbformat": 4,
 "nbformat_minor": 5
}
