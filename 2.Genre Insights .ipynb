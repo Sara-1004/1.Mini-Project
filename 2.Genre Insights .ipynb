{
 "cells": [
  {
   "cell_type": "markdown",
   "id": "c2bacaed-bdcc-4cbd-91ee-f86a6112a432",
   "metadata": {},
   "source": [
    "2.Genre Insights\n",
    "\n",
    "Which movie genres are the most frequently rated?\n",
    "\n",
    "Compare the average ratings across different genres. Are certain genres consistently rated higher or lower?"
   ]
  },
  {
   "cell_type": "code",
   "execution_count": 1,
   "id": "192e6228-67ba-4be3-96c4-356efe7dff1c",
   "metadata": {},
   "outputs": [
    {
     "name": "stdout",
     "output_type": "stream",
     "text": [
      "Most Frequently Rated Genres:\n",
      "Comedy: 356580 ratings\n",
      "Drama: 354529 ratings\n",
      "Action: 257457 ratings\n",
      "Thriller: 189680 ratings\n",
      "Sci-Fi: 157294 ratings\n",
      "Romance: 147523 ratings\n",
      "Adventure: 133953 ratings\n",
      "Crime: 79541 ratings\n",
      "Horror: 76386 ratings\n",
      "Children's: 72186 ratings\n",
      "War: 68527 ratings\n",
      "Animation: 43293 ratings\n",
      "Musical: 41533 ratings\n",
      "Mystery: 40178 ratings\n",
      "Fantasy: 36301 ratings\n",
      "Western: 20683 ratings\n",
      "Film-Noir: 18261 ratings\n",
      "Documentary: 7910 ratings\n",
      "\n",
      "Average Ratings by Genre:\n",
      "Film-Noir: 4.08 average rating\n",
      "Documentary: 3.93 average rating\n",
      "War: 3.89 average rating\n",
      "Drama: 3.77 average rating\n",
      "Crime: 3.71 average rating\n",
      "Animation: 3.68 average rating\n",
      "Mystery: 3.67 average rating\n",
      "Musical: 3.67 average rating\n",
      "Western: 3.64 average rating\n",
      "Romance: 3.61 average rating\n",
      "Thriller: 3.57 average rating\n",
      "Comedy: 3.52 average rating\n",
      "Action: 3.49 average rating\n",
      "Adventure: 3.48 average rating\n",
      "Sci-Fi: 3.47 average rating\n",
      "Fantasy: 3.45 average rating\n",
      "Children's: 3.42 average rating\n",
      "Horror: 3.22 average rating\n"
     ]
    }
   ],
   "source": [
    "#Solution\n",
    "\n",
    "# File paths\n",
    "movies_file = r'C:\\Users\\Admin\\Documents\\ml-1m[1]\\ml-1m\\movies.dat'\n",
    "ratings_file = r'C:\\Users\\Admin\\Documents\\ml-1m[1]\\ml-1m\\ratings.dat'\n",
    "\n",
    "#create a mapping of movie IDs to genres\n",
    "movie_genres = {}\n",
    "\n",
    "with open(movies_file, 'r', encoding='latin-1') as movies:\n",
    "    for line in movies:\n",
    "        line = line.strip()\n",
    "        movie_id, title, genres = line.split('::')\n",
    "        genres_list = genres.split('|')\n",
    "        movie_genres[int(movie_id)] = genres_list\n",
    "\n",
    "#calculate total ratings and counts per genre\n",
    "genre_ratings = {}\n",
    "genre_counts = {}\n",
    "\n",
    "with open(ratings_file, 'r') as ratings:\n",
    "    for line in ratings:\n",
    "        line = line.strip()\n",
    "        user_id, movie_id, rating, timestamp = map(int, line.split('::'))\n",
    "        movie_id = int(movie_id)\n",
    "        rating = int(rating)\n",
    "        \n",
    "    
    "        if movie_id in movie_genres:\n",
    "            for genre in movie_genres[movie_id]:\n",
    "                
    "                if genre not in genre_ratings:\n",
    "                    genre_ratings[genre] = 0\n",
    "                    genre_counts[genre] = 0\n",
    "                \n",
    "                
    "                genre_ratings[genre] += rating\n",
    "                genre_counts[genre] += 1\n",
    "\n",
    "#Calculate average ratings per genre\n",
    "genre_averages = {}\n",
    "for genre in genre_ratings:\n",
    "    genre_averages[genre] = genre_ratings[genre] / genre_counts[genre]\n",
    "\n",
    "#Sort genres by total ratings count\n",
    "sorted_genres_by_count = sorted(genre_counts.items(), key=lambda x: x[1], reverse=True)\n",
    "\n",
    "#Sort genres by average rating\n",
    "sorted_genres_by_avg = sorted(genre_averages.items(), key=lambda x: x[1], reverse=True)\n",
    "\n",
    
    "print(\"Most Frequently Rated Genres:\")\n",
    "for genre, count in sorted_genres_by_count:\n",
    "    print(f\"{genre}: {count} ratings\")\n",
    "\n",
    "print(\"\\nAverage Ratings by Genre:\")\n",
    "for genre, avg_rating in sorted_genres_by_avg:\n",
    "    print(f\"{genre}: {avg_rating:.2f} average rating\")"
   ]
  },
  {
   "cell_type": "code",
   "execution_count": null,
   "id": "fc96d431-26ec-4ca4-817e-ca1d8049fb10",
   "metadata": {},
   "outputs": [],
   "source": []
  }
 ],
 "metadata": {
  "kernelspec": {
   "display_name": "Python 3 (ipykernel)",
   "language": "python",
   "name": "python3"
  },
  "language_info": {
   "codemirror_mode": {
    "name": "ipython",
    "version": 3
   },
   "file_extension": ".py",
   "mimetype": "text/x-python",
   "name": "python",
   "nbconvert_exporter": "python",
   "pygments_lexer": "ipython3",
   "version": "3.12.4"
  }
 },
 "nbformat": 4,
 "nbformat_minor": 5
}
